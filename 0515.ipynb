{
  "nbformat": 4,
  "nbformat_minor": 0,
  "metadata": {
    "colab": {
      "provenance": [],
      "authorship_tag": "ABX9TyN2Frsi2hTXxTqujMIGZCbV",
      "include_colab_link": true
    },
    "kernelspec": {
      "name": "python3",
      "display_name": "Python 3"
    },
    "language_info": {
      "name": "python"
    }
  },
  "cells": [
    {
      "cell_type": "markdown",
      "metadata": {
        "id": "view-in-github",
        "colab_type": "text"
      },
      "source": [
        "<a href=\"https://colab.research.google.com/github/choouinn/Introduction-to-Computers/blob/main/0515.ipynb\" target=\"_parent\"><img src=\"https://colab.research.google.com/assets/colab-badge.svg\" alt=\"Open In Colab\"/></a>"
      ]
    },
    {
      "cell_type": "code",
      "execution_count": null,
      "metadata": {
        "colab": {
          "base_uri": "https://localhost:8080/"
        },
        "id": "lmA7yCtbOnJk",
        "outputId": "0f10548a-d471-4cf7-c278-2d2b73957000"
      },
      "outputs": [
        {
          "output_type": "stream",
          "name": "stdout",
          "text": [
            "今天會下雨嗎J\n",
            "請重新輸入!\n"
          ]
        }
      ],
      "source": [
        "rain=input(\"今天會下雨嗎\")\n",
        "if(rain==\"y\" or rain==\"Y\"):\n",
        "  print(\"出門記得帶傘!\")\n",
        "elif(rain==\"n\" or rain==\"N\"):\n",
        "  print(\"今天不會下雨!\")\n",
        "else:\n",
        "  print(\"請重新輸入!\")"
      ]
    },
    {
      "cell_type": "code",
      "source": [
        "tem=float(input(\"請輸入體溫\"))\n",
        "if(tem>=37.5):\n",
        "  print(\"體溫過高!\")\n",
        "elif(tem<=37.5 and tem>=37):\n",
        "  print(\"體溫略高!\")\n",
        "elif(tem>=34 and tem<=36.9):\n",
        "  print(\"體溫正常!\")\n",
        "else:\n",
        "  print(\"體溫異常,請重新量測!\")\n"
      ],
      "metadata": {
        "colab": {
          "base_uri": "https://localhost:8080/"
        },
        "id": "inlONhEXUOgh",
        "outputId": "fe10a2cc-58ca-4362-e44c-fa21d936a86e"
      },
      "execution_count": null,
      "outputs": [
        {
          "output_type": "stream",
          "name": "stdout",
          "text": [
            "請輸入體溫37\n",
            "體溫略高!\n"
          ]
        }
      ]
    },
    {
      "cell_type": "code",
      "source": [
        "sco=int(input(\"請輸入成績\"))\n",
        "if(sco>=90):\n",
        "  print(\"A\")\n",
        "elif(sco>=80 and sco<=89):\n",
        "  print(\"B\")\n",
        "elif(sco>=70 and sco<=79):\n",
        "  print(\"C\")\n",
        "elif(sco>=60 and sco<=69):\n",
        "  print(\"D\")\n",
        "else:\n",
        "  print(\"E\")"
      ],
      "metadata": {
        "colab": {
          "base_uri": "https://localhost:8080/"
        },
        "id": "A9A9bK4YWdQ9",
        "outputId": "c8398c0a-2588-49d5-c9b7-1b6b3ad41f35"
      },
      "execution_count": null,
      "outputs": [
        {
          "output_type": "stream",
          "name": "stdout",
          "text": [
            "請輸入成績70\n",
            "C\n"
          ]
        }
      ]
    },
    {
      "cell_type": "code",
      "source": [
        "month=int(input(\"請輸入月份\"))\n",
        "if(month>=3 and month<=5):\n",
        "  print(month,\"月是春天!\")\n",
        "elif(month>=6 and month<=8):\n",
        "  print(month,\"月是夏天!\")\n",
        "elif(month>=9 and month<=11):\n",
        "  print(month,\"月是秋天!\")\n",
        "elif(month==12 or month==1 or month==2):\n",
        "  print(month,\"月是冬天!\")\n",
        "else:\n",
        "  print(\"月份不在範圍內!\")"
      ],
      "metadata": {
        "colab": {
          "base_uri": "https://localhost:8080/"
        },
        "id": "_ciY2Z2LXmU0",
        "outputId": "4cbb4d24-3742-42ad-cfc4-498a5611c706"
      },
      "execution_count": null,
      "outputs": [
        {
          "output_type": "stream",
          "name": "stdout",
          "text": [
            "請輸入月份4\n",
            "4 月是春天!\n"
          ]
        }
      ]
    },
    {
      "cell_type": "code",
      "source": [
        "money=int(input(\"請輸入今年收入淨額\"))\n",
        "if(money>=2000000):\n",
        " print(\"付稅金額:\",money*0.3,\"元\")\n",
        "elif(money>=1000000):\n",
        " print(\"付稅金額:\",money*0.21,\"元\")\n",
        "elif(money>=600000):\n",
        " print(\"付稅金額:\",money*0.13,\"元\")\n",
        "elif(money>=300000):\n",
        "  print(\"付稅金額:\",money*0.06,\"元\")\n",
        "else:\n",
        "  print(\"付稅金額：0元\")\n"
      ],
      "metadata": {
        "id": "hh-PdFbWZuq2",
        "colab": {
          "base_uri": "https://localhost:8080/"
        },
        "outputId": "2b04a7af-9a8d-4f98-8edf-1bb3b1265589"
      },
      "execution_count": null,
      "outputs": [
        {
          "output_type": "stream",
          "name": "stdout",
          "text": [
            "請輸入今年收入淨額6000000\n",
            "付稅金額: 1800000.0 元\n"
          ]
        }
      ]
    }
  ]
}